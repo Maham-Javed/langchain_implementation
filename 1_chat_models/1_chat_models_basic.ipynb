{
 "cells": [
  {
   "cell_type": "code",
   "execution_count": null,
   "id": "5080c451",
   "metadata": {},
   "outputs": [],
   "source": [
    "from dotenv import load_dotenv\n",
    "import os\n",
    "from langchain_groq import ChatGroq"
   ]
  },
  {
   "cell_type": "code",
   "execution_count": null,
   "id": "e14dc0f1",
   "metadata": {},
   "outputs": [],
   "source": [
    "load_dotenv()\n",
    "api_key = os.getenv(\"GROQ_API_KEY\")\n",
    "\n",
    "# Use the updated model\n",
    "model = ChatGroq(\n",
    "    api_key=api_key,\n",
    "    model=\"llama-3.1-8b-instant\", \n",
    "    temperature=0.7 # temperature controls the randomness or creativity of the model’s responses\n",
    ")\n",
    "# invoke the model by using invoke function\n",
    "result = model.invoke(\"What is square root of 46.4?\")\n",
    "\n",
    "# Show the full result\n",
    "print(\"Full Result:\")\n",
    "print(result)\n",
    "\n",
    "# show the whole content of the result\n",
    "print(\"Content:\")\n",
    "print(result.content)"
   ]
  }
 ],
 "metadata": {
  "kernelspec": {
   "display_name": ".venv",
   "language": "python",
   "name": "python3"
  },
  "language_info": {
   "codemirror_mode": {
    "name": "ipython",
    "version": 3
   },
   "file_extension": ".py",
   "mimetype": "text/x-python",
   "name": "python",
   "nbconvert_exporter": "python",
   "pygments_lexer": "ipython3",
   "version": "3.13.3"
  }
 },
 "nbformat": 4,
 "nbformat_minor": 5
}
