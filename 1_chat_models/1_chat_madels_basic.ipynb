{
 "cells": [
  {
   "cell_type": "code",
   "execution_count": 11,
   "id": "5080c451",
   "metadata": {},
   "outputs": [],
   "source": [
    "from dotenv import load_dotenv\n",
    "import os\n",
    "from langchain_groq import ChatGroq"
   ]
  },
  {
   "cell_type": "code",
   "execution_count": 12,
   "id": "e14dc0f1",
   "metadata": {},
   "outputs": [
    {
     "name": "stdout",
     "output_type": "stream",
     "text": [
      "Full Result:\n",
      "content='Adolf Hitler (April 20, 1889 - April 30, 1945) was an Austrian-born German politician and leader of the Nazi Party. He is widely regarded as one of the most infamous and reviled individuals in world history.\\n\\nHitler rose to power in Germany during the 1920s and 1930s, becoming the Chancellor of Germany in 1933. He quickly consolidated power and became the Führer (leader) of the Nazi Party. Hitler\\'s policies were based on extreme nationalism, racism, and militarism, which led to the persecution and genocide of six million Jews and millions of other people deemed undesirable by the Nazi regime, including Romani people, disabled individuals, LGBTQ+ individuals, and others.\\n\\nHitler\\'s aggressive expansionist policies led to the outbreak of World War II in 1939, which resulted in the deaths of an estimated 50-80 million people, including both military personnel and civilians. The war ended in 1945 with the defeat of Nazi Germany, and Hitler took his own life in a bunker in Berlin as Soviet forces closed in on the city.\\n\\nHitler\\'s ideology was based on a twisted and distorted version of nationalism, which emphasized the superiority of the German people and the need for a \"pure\" Aryan race. He believed in the concept of Lebensraum (living space), which held that Germany needed to expand its territory to ensure its survival and dominance.\\n\\nHitler\\'s legacy is one of hatred, violence, and genocide. His actions and ideology have been widely condemned by people around the world, and his name has become synonymous with evil and tyranny.\\n\\nSome of the key events and policies associated with Hitler include:\\n\\n* The Nuremberg Laws (1935), which stripped Jews of their citizenship and prohibited them from marrying non-Jews.\\n* Kristallnacht (1938), a wave of violence against Jewish communities in Germany and Austria.\\n* The Holocaust (1939-1945), the systematic persecution and extermination of six million Jews and millions of others deemed undesirable by the Nazi regime.\\n* The invasion of Poland (1939), which marked the beginning of World War II.\\n* The aggressive expansion of Nazi Germany, including the annexation of Austria and the invasion of France, Belgium, the Netherlands, and the Soviet Union.\\n\\nOverall, Adolf Hitler\\'s legacy is one of hatred, violence, and genocide, and his actions will always be remembered as some of the most heinous crimes against humanity in history.' additional_kwargs={} response_metadata={'token_usage': {'completion_tokens': 505, 'prompt_tokens': 40, 'total_tokens': 545, 'completion_time': 0.610593763, 'prompt_time': 0.001773214, 'queue_time': 0.052167926, 'total_time': 0.612366977}, 'model_name': 'llama-3.1-8b-instant', 'system_fingerprint': 'fp_33e8adf159', 'service_tier': 'on_demand', 'finish_reason': 'stop', 'logprobs': None, 'model_provider': 'groq'} id='lc_run--c2780da9-3032-459c-a3c2-76585bf2a61f-0' usage_metadata={'input_tokens': 40, 'output_tokens': 505, 'total_tokens': 545}\n",
      "Content:\n",
      "Adolf Hitler (April 20, 1889 - April 30, 1945) was an Austrian-born German politician and leader of the Nazi Party. He is widely regarded as one of the most infamous and reviled individuals in world history.\n",
      "\n",
      "Hitler rose to power in Germany during the 1920s and 1930s, becoming the Chancellor of Germany in 1933. He quickly consolidated power and became the Führer (leader) of the Nazi Party. Hitler's policies were based on extreme nationalism, racism, and militarism, which led to the persecution and genocide of six million Jews and millions of other people deemed undesirable by the Nazi regime, including Romani people, disabled individuals, LGBTQ+ individuals, and others.\n",
      "\n",
      "Hitler's aggressive expansionist policies led to the outbreak of World War II in 1939, which resulted in the deaths of an estimated 50-80 million people, including both military personnel and civilians. The war ended in 1945 with the defeat of Nazi Germany, and Hitler took his own life in a bunker in Berlin as Soviet forces closed in on the city.\n",
      "\n",
      "Hitler's ideology was based on a twisted and distorted version of nationalism, which emphasized the superiority of the German people and the need for a \"pure\" Aryan race. He believed in the concept of Lebensraum (living space), which held that Germany needed to expand its territory to ensure its survival and dominance.\n",
      "\n",
      "Hitler's legacy is one of hatred, violence, and genocide. His actions and ideology have been widely condemned by people around the world, and his name has become synonymous with evil and tyranny.\n",
      "\n",
      "Some of the key events and policies associated with Hitler include:\n",
      "\n",
      "* The Nuremberg Laws (1935), which stripped Jews of their citizenship and prohibited them from marrying non-Jews.\n",
      "* Kristallnacht (1938), a wave of violence against Jewish communities in Germany and Austria.\n",
      "* The Holocaust (1939-1945), the systematic persecution and extermination of six million Jews and millions of others deemed undesirable by the Nazi regime.\n",
      "* The invasion of Poland (1939), which marked the beginning of World War II.\n",
      "* The aggressive expansion of Nazi Germany, including the annexation of Austria and the invasion of France, Belgium, the Netherlands, and the Soviet Union.\n",
      "\n",
      "Overall, Adolf Hitler's legacy is one of hatred, violence, and genocide, and his actions will always be remembered as some of the most heinous crimes against humanity in history.\n"
     ]
    }
   ],
   "source": [
    "load_dotenv()\n",
    "api_key = os.getenv(\"GROQ_API_KEY\")\n",
    "\n",
    "# Use the updated model\n",
    "model = ChatGroq(\n",
    "    api_key=api_key,\n",
    "    model=\"llama-3.1-8b-instant\", \n",
    "    temperature=0.7\n",
    ")\n",
    "\n",
    "result = model.invoke(\"Who is Adolf Hitler?\")\n",
    "print(\"Full Result:\")\n",
    "print(result)\n",
    "print(\"Content:\")\n",
    "print(result.content)\n"
   ]
  },
  {
   "cell_type": "code",
   "execution_count": 13,
   "id": "7df8c8e8",
   "metadata": {},
   "outputs": [
    {
     "name": "stdout",
     "output_type": "stream",
     "text": [
      "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\n"
     ]
    }
   ],
   "source": [
    "print(os.getenv(\"GROQ_API_KEY\"))"
   ]
  },
  {
   "cell_type": "code",
   "execution_count": null,
   "id": "5554d02c",
   "metadata": {},
   "outputs": [],
   "source": []
  }
 ],
 "metadata": {
  "kernelspec": {
   "display_name": ".venv",
   "language": "python",
   "name": "python3"
  },
  "language_info": {
   "codemirror_mode": {
    "name": "ipython",
    "version": 3
   },
   "file_extension": ".py",
   "mimetype": "text/x-python",
   "name": "python",
   "nbconvert_exporter": "python",
   "pygments_lexer": "ipython3",
   "version": "3.13.3"
  }
 },
 "nbformat": 4,
 "nbformat_minor": 5
}
