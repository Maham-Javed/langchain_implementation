{
 "cells": [
  {
   "cell_type": "code",
   "execution_count": null,
   "id": "ffcfc0ed",
   "metadata": {},
   "outputs": [],
   "source": [
    "from dotenv import load_dotenv\n",
    "import os\n",
    "from langchain_groq import ChatGroq\n",
    "from langchain_core.prompts import ChatPromptTemplate"
   ]
  },
  {
   "cell_type": "code",
   "execution_count": null,
   "id": "781305d3",
   "metadata": {},
   "outputs": [],
   "source": [
    "load_dotenv()\n",
    "api_key = os.getenv(\"GROQ_API_KEY\")\n",
    "\n",
    "# Use the updated model\n",
    "model = ChatGroq(\n",
    "    api_key=api_key,\n",
    "    model=\"llama-3.1-8b-instant\", \n",
    "    temperature=0.7 # temperature controls the randomness or creativity of the model’s responses\n",
    ")"
   ]
  },
  {
   "cell_type": "code",
   "execution_count": null,
   "id": "a6c6e3fb",
   "metadata": {},
   "outputs": [],
   "source": [
    "# PART 1: Create a ChatPromptTemplate using a template string\n",
    "\n",
    "# Define a text template with a placeholder `{topic}`, this placeholder fiiled later with the actual value when invoked.\n",
    "template = \"Tell me a joke about {topic}.\"\n",
    "\n",
    "# Create a ChatPromptTemplate object from the template string \n",
    "prompt_template = ChatPromptTemplate.from_template(template)\n",
    "\n",
    "print(\"---- Prompt from template ----\")\n",
    "# Invoke the prompt_template by passing a dictionary \n",
    "prompt = prompt_template.invoke({\"topic\": \"cat\"})\n",
    "# imvole the model for answer the prompt\n",
    "result = model.invoke(prompt)\n",
    "print(result.content)"
   ]
  },
  {
   "cell_type": "code",
   "execution_count": null,
   "id": "10736d8d",
   "metadata": {},
   "outputs": [],
   "source": [
    "# PART 2: Prompt with Multiple Placeholders\n",
    "\n",
    "template = \"Tell me {number} jokes about {topic}.\"\n",
    "prompt_template = ChatPromptTemplate.from_template(template)\n",
    "\n",
    "print(\"---- Prompt from template ----\")\n",
    "prompt = prompt_template.invoke({\"number\": 3, \"topic\": \"cat\"})\n",
    "# imvole the model for answer the prompt\n",
    "result = model.invoke(prompt)\n",
    "print(result.content)"
   ]
  },
  {
   "cell_type": "code",
   "execution_count": null,
   "id": "fec1ef79",
   "metadata": {},
   "outputs": [],
   "source": [
    "# PART 3: Prompt with System and Human Messages (Using Tuples)\n",
    "\n",
    "# Define a list of message tuples.\n",
    "messages = [\n",
    "    (\"system\", \"You are a comedian who tells jokes about {topic}.\"), # System message defines the assistant’s role or behavior\n",
    "    (\"human\", \"Tell me {joke_count} jokes.\"), # Human message gives the user’s instruction\n",
    "]\n",
    "\n",
    "# Create a ChatPromptTemplate from the list of messages.\n",
    "# LangChain will recognize placeholders like {topic} and {joke_count}\n",
    "# and let you fill them later using a dictionary.\n",
    "prompt_template = ChatPromptTemplate.from_messages(messages)\n",
    "\n",
    "print(\"---- Prompt from template ----\")\n",
    "prompt = prompt_template.invoke({\"topic\": \"lawyers\", \"joke_count\": 3})\n",
    "# imvole the model for answer the prompt\n",
    "result = model.invoke(prompt)\n",
    "print(result.content)"
   ]
  }
 ],
 "metadata": {
  "kernelspec": {
   "display_name": ".venv",
   "language": "python",
   "name": "python3"
  },
  "language_info": {
   "codemirror_mode": {
    "name": "ipython",
    "version": 3
   },
   "file_extension": ".py",
   "mimetype": "text/x-python",
   "name": "python",
   "nbconvert_exporter": "python",
   "pygments_lexer": "ipython3",
   "version": "3.13.3"
  }
 },
 "nbformat": 4,
 "nbformat_minor": 5
}
