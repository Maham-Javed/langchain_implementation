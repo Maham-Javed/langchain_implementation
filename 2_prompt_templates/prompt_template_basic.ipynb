{
 "cells": [
  {
   "cell_type": "code",
   "execution_count": 35,
   "id": "aabbafb8",
   "metadata": {},
   "outputs": [],
   "source": [
    "# from langchain.prompts import ChatPromptTemplate\n",
    "from langchain_core.prompts import ChatPromptTemplate\n",
    "from langchain_core.messages import HumanMessage"
   ]
  },
  {
   "cell_type": "code",
   "execution_count": 36,
   "id": "1e2c2d68",
   "metadata": {},
   "outputs": [
    {
     "name": "stdout",
     "output_type": "stream",
     "text": [
      "---- Prompt from template ----\n",
      "messages=[HumanMessage(content='Tell me a joke about cat.', additional_kwargs={}, response_metadata={})]\n"
     ]
    }
   ],
   "source": [
    "# PART 1: Create a ChatPromptTemplate using a template string\n",
    "\n",
    "# Define a text template with a placeholder `{topic}`, this placeholder fiiled later with the actual value when invoked.\n",
    "template = \"Tell me a joke about {topic}.\"\n",
    "\n",
    "# Create a ChatPromptTemplate object from the template string \n",
    "prompt_template = ChatPromptTemplate.from_template(template)\n",
    "\n",
    "print(\"---- Prompt from template ----\")\n",
    "# Invoke the prompt_template by passing a dictionary \n",
    "prompt = prompt_template.invoke({\"topic\": \"cat\"})\n",
    "print(prompt)"
   ]
  },
  {
   "cell_type": "code",
   "execution_count": 37,
   "id": "d98af1bb",
   "metadata": {},
   "outputs": [
    {
     "name": "stdout",
     "output_type": "stream",
     "text": [
      "---- Prompt from template ----\n",
      "messages=[HumanMessage(content='Tell me 3 jokes about cat.', additional_kwargs={}, response_metadata={})]\n"
     ]
    }
   ],
   "source": [
    "# PART 2: Prompt with Multiple Placeholders\n",
    "\n",
    "template = \"Tell me {number} jokes about {topic}.\"\n",
    "prompt_template = ChatPromptTemplate.from_template(template)\n",
    "\n",
    "print(\"---- Prompt from template ----\")\n",
    "prompt = prompt_template.invoke({\"number\": 3, \"topic\": \"cat\"})\n",
    "print(prompt)"
   ]
  },
  {
   "cell_type": "code",
   "execution_count": null,
   "id": "eab0d304",
   "metadata": {},
   "outputs": [
    {
     "name": "stdout",
     "output_type": "stream",
     "text": [
      "---- Prompt from template ----\n",
      "messages=[SystemMessage(content='You are a comedian who tells jokes about lawyers.\\n', additional_kwargs={}, response_metadata={}), HumanMessage(content='Tell me 3 jokes.', additional_kwargs={}, response_metadata={})]\n"
     ]
    }
   ],
   "source": [
    "# PART 3: Prompt with System and Human Messages (Using Tuples)\n",
    "\n",
    "messages = [\n",
    "    (\"system\", \"You are a comedian who tells jokes about {topic}.\"),\n",
    "    (\"human\", \"Tell me {joke_count} jokes.\"),\n",
    "]\n",
    "\n",
    "prompt_template = ChatPromptTemplate.from_messages(messages)\n",
    "\n",
    "print(\"---- Prompt from template ----\")\n",
    "prompt = prompt_template.invoke({\"topic\": \"lawyers\", \"joke_count\": 3})\n",
    "print(prompt)"
   ]
  }
 ],
 "metadata": {
  "kernelspec": {
   "display_name": ".venv",
   "language": "python",
   "name": "python3"
  },
  "language_info": {
   "codemirror_mode": {
    "name": "ipython",
    "version": 3
   },
   "file_extension": ".py",
   "mimetype": "text/x-python",
   "name": "python",
   "nbconvert_exporter": "python",
   "pygments_lexer": "ipython3",
   "version": "3.13.3"
  }
 },
 "nbformat": 4,
 "nbformat_minor": 5
}
